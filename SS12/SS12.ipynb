{
 "cells": [
  {
   "cell_type": "markdown",
   "metadata": {},
   "source": [
    "# Buổi 12: Thuật toán tìm đường (Phần 2) - BFS "
   ]
  },
  {
   "cell_type": "markdown",
   "metadata": {},
   "source": [
    "## 1. Tìm kiếm theo chiều rộng (Breadth - First Search)\n",
    "Tương tự như DFS, BFS cũng là thuật toán duyệt qua các đỉnh trong một đồ thì. Với BFS, các đỉnh gần điểm bắt đầu nhất sẽ được duyệt trước, sau đó đến các đỉnh xa hơn.\n",
    "\n",
    "Thứ tự duyệt của BFS được thể hiện như sau: (trên visualgo). Nhờ đặc điểm này, thuật toán BFS đảm bảo tìm được đường đi ngắn nhất giữa hai đỉnh bất kì (Nếu tồn tại)."
   ]
  },
  {
   "cell_type": "markdown",
   "metadata": {},
   "source": [
    "Mô tả: Thuật toán duyệt của BFS: 0. Khởi tạo một *queue* rỗng để chứa các đỉnh chờ duyệt\n",
    "1. Đưa đỉnh xuất phát vào queue, đánh dấu đỉnh xuất phát đã được duyệt\n",
    "2. Khi Queue vẫn còn phần tử, lấy ra đỉnh tiếp theo trong queue, xét các đỉnh kề với đỉnh vừa lấy: \n",
    "    2.1. Nếu đỉnh đang xét chưa được duyệt => đưa đỉnh đang xét vào queue, đánh dấu đã được duyệt.\n",
    "    2.2. Nếu đỉnh đang xét được duyệt => bỏ qua"
   ]
  },
  {
   "cell_type": "markdown",
   "metadata": {},
   "source": [
    "### Code\n",
    "BFS không duyệt các đỉnh bằng đệ quy như DFS mà sử dụng vòng lặp và một queue để lưu các đỉnh chờ được duyệt."
   ]
  },
  {
   "cell_type": "code",
   "execution_count": 2,
   "metadata": {},
   "outputs": [],
   "source": [
    "from collections import deque\n",
    "\n",
    "def bfs(graph, start):\n",
    "    \n",
    "    ## khởi tạo queue, và một collect set()\n",
    "    visited = set()\n",
    "    queue = deque()\n",
    "    \n",
    "    ## thêm đỉnh bắt đầu duyệt\n",
    "    queue.append(start) #0 \n",
    "    visited.add(start)\n",
    "    \n",
    "    while len(queue) > 0:\n",
    "        ## Đi tới đỉnh tiếp theo trong queue\n",
    "        vertex = queue.popleft()\n",
    "        print(vertex, end=\" \") #0\n",
    "        \n",
    "        # thêm các đỉnh kề (level con) vào queue và đánh dấu là visited\n",
    "        for next_vertex in graph[vertex]: \n",
    "            if next_vertex not in visited:\n",
    "                queue.append(next_vertex)\n",
    "                visited.add(next_vertex)\n",
    "        "
   ]
  }
 ],
 "metadata": {
  "kernelspec": {
   "display_name": "base",
   "language": "python",
   "name": "python3"
  },
  "language_info": {
   "codemirror_mode": {
    "name": "ipython",
    "version": 3
   },
   "file_extension": ".py",
   "mimetype": "text/x-python",
   "name": "python",
   "nbconvert_exporter": "python",
   "pygments_lexer": "ipython3",
   "version": "3.12.7"
  }
 },
 "nbformat": 4,
 "nbformat_minor": 2
}
