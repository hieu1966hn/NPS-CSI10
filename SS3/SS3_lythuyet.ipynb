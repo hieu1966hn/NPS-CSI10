{
 "cells": [
  {
   "cell_type": "markdown",
   "metadata": {},
   "source": [
    "# Lesson 3: Các cấu trúc dữ liệu trong Python\n",
    "\n",
    "## Mục tiêu: \n",
    "- Cách hoạt động của các CTDL sẵn có trong Python\n",
    "- Ứng dụng của từng CTDL\n",
    "- Phân nhóm hai loại CTDL\n"
   ]
  },
  {
   "cell_type": "markdown",
   "metadata": {},
   "source": [
    "CTDL: Là một cách sắp xếp và lưu trữ dữ liệu để dễ dàng xử lý và truy vấn. Một CTDL định nghĩa mối quan hệ giữa các thành phần dữ liệu trong nó và các phương thức để xử lý trên dữ liệu. Các CTDL sẵn có trong Python: "
   ]
  },
  {
   "cell_type": "markdown",
   "metadata": {},
   "source": [
    "# 1. CTDL có thứ tự\n",
    "- CTDL có thứ tự có nghĩa là thứ tự các phần tử trong CTDL được đảm bảo trong quá trình lưu trữ và xử lý.\n",
    "- Các CTDL có thứ tự gồm: List/Tuple/Dict."
   ]
  },
  {
   "cell_type": "markdown",
   "metadata": {},
   "source": [
    "## 1.1 List\n",
    "- Đặc trưng của *list* trong python: \n",
    "+ Có thể thay đổi (mutable): Thêm, xóa, thay đổi giá trị các phần tử\n",
    "+ Động (dynamic): Danh sách động, vùng nhớ để lưu trữ một *list* có thể thay đổi\n",
    "+ Truy cập ngẫu nhiên (random access): Việc truy vấn một phàn tử trong *list* dựa vào index có độ phức tạp O(1)\n",
    "- Một vài phương thức của list: append(), remove(), len(), inser(), extend(), list(), copy(), sort() \n"
   ]
  },
  {
   "cell_type": "markdown",
   "metadata": {},
   "source": [
    "## 1.1. Tuple\n",
    "- Tương tự *list*, điểm khác biệt lớn nhất là các phần tử trong nó không thay đổi được. Ta chỉ có thể thay đổi một *Tuple* bằng cách tạo ra một object *tupble* mới.\n",
    "- Công dụng: Thường được dùng để gom nhóm các dữ liệu liên quan thành một biến duy nhất. Ngoài ra, Tuple còn có thể được dùng làm key trong dictionary và làm phần tử trong set, trong khi list không làm được.\n",
    "\n",
    "Đặc trưng của tuple:\n",
    "+ không thể thay đổi (immutable): Khong thể thêm, xóa hoặc thay đổi giá trị các phần tử bên trong nó.\n",
    "+ Truy cập ngẫu nhiên (random access)"
   ]
  },
  {
   "cell_type": "markdown",
   "metadata": {},
   "source": [
    "## 1.2 Set và Dictionary\n",
    "- SET: là một kiểu dữ liệu được sử dụng để lưu trữ một tập hợp các *phần tử không trùng lặp* (unique). Nó tương tự như tập hợp trong toán học.\n",
    "- SET không duy trì thứ tự của các phần tử (unordered).\n",
    "- Phần tử trong set phải là **bất biến** (immutable), tức là không thể thay đổi sau khi được thêm vào. Tuy nhiên, bản thân set là một kiểu có thể thay đổi (mutable), cho phép thêm, xóa phần tử.\n",
    "\n",
    "\n",
    "Cách khai báo một set bằng cách\n",
    "+ Sử dụng cặp dấu ngoặc nhọn {}\n",
    "+ Dùng hàm tích hợp set()\n",
    "Ví dụ:"
   ]
  },
  {
   "cell_type": "code",
   "execution_count": null,
   "metadata": {},
   "outputs": [],
   "source": [
    "# khai báo set\n"
   ]
  },
  {
   "cell_type": "code",
   "execution_count": null,
   "metadata": {},
   "outputs": [],
   "source": []
  }
 ],
 "metadata": {
  "kernelspec": {
   "display_name": "base",
   "language": "python",
   "name": "python3"
  },
  "language_info": {
   "name": "python",
   "version": "3.12.7"
  }
 },
 "nbformat": 4,
 "nbformat_minor": 2
}
