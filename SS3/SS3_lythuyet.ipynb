{
 "cells": [
  {
   "cell_type": "markdown",
   "metadata": {},
   "source": [
    "# Lesson 3: Các cấu trúc dữ liệu trong Python\n",
    "\n",
    "## Mục tiêu: \n",
    "- Cách hoạt động của các CTDL sẵn có trong Python\n",
    "- Ứng dụng của từng CTDL\n",
    "- Phân nhóm hai loại CTDL\n"
   ]
  },
  {
   "cell_type": "markdown",
   "metadata": {},
   "source": [
    "CTDL: Là một cách sắp xếp và lưu trữ dữ liệu để dễ dàng xử lý và truy vấn. Một CTDL định nghĩa mối quan hệ giữa các thành phần dữ liệu trong nó và các phương thức để xử lý trên dữ liệu. Các CTDL sẵn có trong Python: "
   ]
  },
  {
   "cell_type": "markdown",
   "metadata": {},
   "source": [
    "# 1. CTDL có thứ tự\n",
    "- CTDL có thứ tự có nghĩa là thứ tự các phần tử trong CTDL được đảm bảo trong quá trình lưu trữ và xử lý.\n",
    "- Các CTDL có thứ tự gồm: List/Tuple/Dict."
   ]
  },
  {
   "cell_type": "markdown",
   "metadata": {},
   "source": [
    "## 1.1 List\n",
    "- Đặc trưng của *list* trong python: \n",
    "+ Có thể thay đổi (mutable): Thêm, xóa, thay đổi giá trị các phần tử\n",
    "+ Động (dynamic): Danh sách động, vùng nhớ để lưu trữ một *list* có thể thay đổi\n",
    "+ Truy cập ngẫu nhiên (random access): Việc truy vấn một phàn tử trong *list* dựa vào index có độ phức tạp O(1)\n",
    "- Một vài phương thức của list: append(), remove(), len(), inser(), extend(), list(), copy(), sort() \n"
   ]
  },
  {
   "cell_type": "markdown",
   "metadata": {},
   "source": [
    "## 1.1. Tuple\n",
    "- Tương tự *list*, điểm khác biệt lớn nhất là các phần tử trong nó không thay đổi được. Ta chỉ có thể thay đổi một *Tuple* bằng cách tạo ra một object *tupble* mới.\n",
    "- Công dụng: Thường được dùng để gom nhóm các dữ liệu liên quan thành một biến duy nhất. Ngoài ra, Tuple còn có thể được dùng làm key trong dictionary và làm phần tử trong set, trong khi list không làm được.\n",
    "\n",
    "Đặc trưng của tuple:\n",
    "+ không thể thay đổi (immutable): Khong thể thêm, xóa hoặc thay đổi giá trị các phần tử bên trong nó.\n",
    "+ Truy cập ngẫu nhiên (random access)"
   ]
  },
  {
   "cell_type": "markdown",
   "metadata": {},
   "source": [
    "## 1.2 Set và Dictionary\n",
    "- SET: là một kiểu dữ liệu được sử dụng để lưu trữ một tập hợp các *phần tử không trùng lặp* (unique). Nó tương tự như tập hợp trong toán học.\n",
    "- SET không duy trì thứ tự của các phần tử (unordered).\n",
    "- Phần tử trong set phải là **bất biến** (immutable), tức là không thể thay đổi sau khi được thêm vào. Tuy nhiên, bản thân set là một kiểu có thể thay đổi (mutable), cho phép thêm, xóa phần tử.\n",
    "\n",
    "\n",
    "Cách khai báo một set bằng cách\n",
    "+ Sử dụng cặp dấu ngoặc nhọn {}\n",
    "+ Dùng hàm tích hợp set()\n",
    "Ví dụ:"
   ]
  },
  {
   "cell_type": "code",
   "execution_count": 3,
   "metadata": {},
   "outputs": [
    {
     "name": "stdout",
     "output_type": "stream",
     "text": [
      "{1, 2, 3, 4}\n",
      "{1, 2, 3, 4}\n"
     ]
    }
   ],
   "source": [
    "# khai báo set\n",
    "my_set = {1,2,3,4}\n",
    "print(my_set)\n",
    "\n",
    "\n",
    "# sử dụng hàm set()\n",
    "my_set2 = set([1,2,3,4])\n",
    "print(my_set2)"
   ]
  },
  {
   "cell_type": "markdown",
   "metadata": {},
   "source": [
    "**Lưu ý**: Một set rỗng được khai báo bằng set(), không phải là {} (vì {} là kiểu từ điển - dict)."
   ]
  },
  {
   "cell_type": "markdown",
   "metadata": {},
   "source": [
    "### Đặc trưng của set\n",
    "#### không chứa phần tử trùng lặp"
   ]
  },
  {
   "cell_type": "code",
   "execution_count": 4,
   "metadata": {},
   "outputs": [
    {
     "name": "stdout",
     "output_type": "stream",
     "text": [
      "{1, 2, 3}\n"
     ]
    }
   ],
   "source": [
    "my_set = {1,2,2,3}\n",
    "print(my_set)"
   ]
  },
  {
   "cell_type": "markdown",
   "metadata": {},
   "source": [
    "#### Không duy trì thứ tự\n",
    "Các phần tử không được sắp xếp theo thứ tự ban đầu"
   ]
  },
  {
   "cell_type": "code",
   "execution_count": 5,
   "metadata": {},
   "outputs": [
    {
     "name": "stdout",
     "output_type": "stream",
     "text": [
      "{1, 2, 3}\n"
     ]
    }
   ],
   "source": [
    "my_set = {3,1,2}\n",
    "print(my_set)"
   ]
  },
  {
   "cell_type": "markdown",
   "metadata": {},
   "source": [
    "#### Có thể chứa các KDL khác nhau, nhưng phần tử phải bất biến\n"
   ]
  },
  {
   "cell_type": "code",
   "execution_count": 7,
   "metadata": {},
   "outputs": [
    {
     "ename": "TypeError",
     "evalue": "unhashable type: 'list'",
     "output_type": "error",
     "traceback": [
      "\u001b[0;31m---------------------------------------------------------------------------\u001b[0m",
      "\u001b[0;31mTypeError\u001b[0m                                 Traceback (most recent call last)",
      "Cell \u001b[0;32mIn[7], line 2\u001b[0m\n\u001b[1;32m      1\u001b[0m temp \u001b[38;5;241m=\u001b[39m [\u001b[38;5;241m1\u001b[39m,\u001b[38;5;241m2\u001b[39m,\u001b[38;5;241m3\u001b[39m]\n\u001b[0;32m----> 2\u001b[0m my_set \u001b[38;5;241m=\u001b[39m {\u001b[38;5;241m1\u001b[39m, \u001b[38;5;124m\"\u001b[39m\u001b[38;5;124mhello\u001b[39m\u001b[38;5;124m\"\u001b[39m, (\u001b[38;5;241m3\u001b[39m, \u001b[38;5;241m4\u001b[39m), temp}\n\u001b[1;32m      3\u001b[0m \u001b[38;5;28mprint\u001b[39m(my_set)\n",
      "\u001b[0;31mTypeError\u001b[0m: unhashable type: 'list'"
     ]
    }
   ],
   "source": [
    "temp = [1,2,3]\n",
    "my_set = {1, \"hello\", (3, 4), temp}\n",
    "print(my_set)"
   ]
  },
  {
   "cell_type": "markdown",
   "metadata": {},
   "source": [
    "#### Các phép toàn tập hợp (hỗ trợ trực tiếp):\n",
    "Python cung cấp nhiều phép toán trên set tương tự như tập hợp trong toán học: \n",
    "- Hợp (Union): Kết hợp hai tập hợp"
   ]
  },
  {
   "cell_type": "code",
   "execution_count": 8,
   "metadata": {},
   "outputs": [
    {
     "name": "stdout",
     "output_type": "stream",
     "text": [
      "{1, 2, 3, 4, 5}\n"
     ]
    }
   ],
   "source": [
    "A = {1,2,3}\n",
    "B = {3,4,5}\n",
    "print(A | B) ## "
   ]
  },
  {
   "cell_type": "markdown",
   "metadata": {},
   "source": [
    "- Giao (Intersection): Lấy phần tử chung"
   ]
  },
  {
   "cell_type": "code",
   "execution_count": 9,
   "metadata": {},
   "outputs": [
    {
     "name": "stdout",
     "output_type": "stream",
     "text": [
      "{3}\n"
     ]
    }
   ],
   "source": [
    "print(A & B) ### {3}"
   ]
  },
  {
   "cell_type": "markdown",
   "metadata": {},
   "source": [
    "- Hiệu (Difference): lấy phần tử có trong A nhưng không có trong B"
   ]
  },
  {
   "cell_type": "code",
   "execution_count": 10,
   "metadata": {},
   "outputs": [
    {
     "name": "stdout",
     "output_type": "stream",
     "text": [
      "{1, 2}\n"
     ]
    }
   ],
   "source": [
    "print(A - B)"
   ]
  },
  {
   "cell_type": "markdown",
   "metadata": {},
   "source": [
    "- Hiệu đối xứng (Symmetric Difference): Lấy các phần tử chỉ xuất hiện trong một trong hai tập hợp."
   ]
  },
  {
   "cell_type": "code",
   "execution_count": 11,
   "metadata": {},
   "outputs": [
    {
     "name": "stdout",
     "output_type": "stream",
     "text": [
      "{1, 2, 4, 5}\n"
     ]
    }
   ],
   "source": [
    "print(A ^ B) "
   ]
  },
  {
   "cell_type": "markdown",
   "metadata": {},
   "source": [
    "Tính Có thể thay đổi (mutable)\n",
    "- Bạn có thể thêm hoặc xóa phần tử khỏi set\n"
   ]
  },
  {
   "cell_type": "code",
   "execution_count": 13,
   "metadata": {},
   "outputs": [
    {
     "name": "stdout",
     "output_type": "stream",
     "text": [
      "{1, 2, 3, 4}\n",
      "{1, 3, 4}\n"
     ]
    }
   ],
   "source": [
    "my_set = {1,2,3}\n",
    "my_set.add(4) # thêm phần tử\n",
    "print(my_set)\n",
    "\n",
    "my_set.remove(2) # xóa phần tử\n",
    "print(my_set)"
   ]
  },
  {
   "cell_type": "markdown",
   "metadata": {},
   "source": [
    "#### Ứng dụng của SET\n",
    "- Loại bỏ các phần tử trùng lặp trong danh sách"
   ]
  },
  {
   "cell_type": "code",
   "execution_count": 14,
   "metadata": {},
   "outputs": [
    {
     "name": "stdout",
     "output_type": "stream",
     "text": [
      "{1, 2, 3, 4}\n"
     ]
    }
   ],
   "source": [
    "my_list = [1, 2, 2, 3, 4, 4]\n",
    "unique_set = set(my_list)\n",
    "print(unique_set)"
   ]
  },
  {
   "cell_type": "markdown",
   "metadata": {},
   "source": [
    "- Xử lý các phép toán tập hợp (Hợp, Giao, đối xứng,..)\n",
    "- Kiểm tra nhanh sự tồn tại của phần tử (do set sử dụng bảng băm - hash table)"
   ]
  },
  {
   "cell_type": "code",
   "execution_count": 15,
   "metadata": {},
   "outputs": [
    {
     "name": "stdout",
     "output_type": "stream",
     "text": [
      "True\n",
      "False\n"
     ]
    }
   ],
   "source": [
    "my_set = {1,2,3}\n",
    "print(2 in my_set) ## True/False\n",
    "print(5 in my_set) ## True/False\n"
   ]
  },
  {
   "cell_type": "markdown",
   "metadata": {},
   "source": [
    "#### Hạn chế\n",
    "- Không thể chứa các kiểu dữ liệu có thể thay đổi như: danh sách (list) hay từ điển (dict)"
   ]
  },
  {
   "cell_type": "markdown",
   "metadata": {},
   "source": [
    "## So sánh hai nhóm CTDL\n",
    "- Đặc trưng\n",
    "- Tốc độ truy vấn"
   ]
  },
  {
   "cell_type": "markdown",
   "metadata": {},
   "source": [
    "Đặc trưng của CTDL có thứ tự: \n",
    "+ Thứ tự các phần tử được đảm bảo\n",
    "+ Các phần tử có thể trùng lặp\n",
    "+ Việc truy vấn một phần tử dựa vào index có độ phức tạp là O(1)\n",
    "+ Việc truy vấn một phần tử dựa vào giá trị có độ phức tạp là O(n)\n",
    "+ Đối với *list* có thể sắp xếp các phần tử (từ nhỏ -> lớn hoặc ngược lại)\n"
   ]
  },
  {
   "cell_type": "markdown",
   "metadata": {},
   "source": [
    "Đặc trưng của CTDL không có thứ tự: \n",
    "+ Thứ tự các phần tử không được đảm bảo\n",
    "+ Các phần tử không thể trùng lặp (đối với set), key không thể trùng lặp (đối với dict)\n",
    "+ Không thể truy vấn một phần tử dựa vào index\n",
    "+ Đối với *set*: Việc truy vấn một phần tử dựa vào giá trị có độ phức tạp là O(1)\n",
    "+ Đối với *dict*: Việc truy vấn một phần tử dựa vào giá trị có độ phức tạp là O(n)\n",
    "+ Không thể sắp xếp các phần tử.\n",
    "\n"
   ]
  },
  {
   "cell_type": "markdown",
   "metadata": {},
   "source": [
    "## So sánh tốc độ truy vấn"
   ]
  },
  {
   "cell_type": "code",
   "execution_count": 17,
   "metadata": {},
   "outputs": [],
   "source": [
    "import time\n",
    "import math\n",
    "\n",
    "## tính thời gian thực thi hàm\n",
    "def cal_time(func):\n",
    "    start_time = time.time() # trả về thời gian hiện tại tính bằng giây. Lưu lại thời gian hiện tại, dùng làm mốc để tính toán thời gian chạy của hàm func.\n",
    "    result = func() #  Kết quả trả về của hàm func được lưu vào biến result. (phải là 1 hàm ko tham số)\n",
    "    real_time = time.time() - start_time # time.time() sẽ được gọi lại để lấy thời gian hiện tại.\n",
    "    return real_time, result"
   ]
  },
  {
   "cell_type": "code",
   "execution_count": 18,
   "metadata": {},
   "outputs": [],
   "source": [
    "\n",
    "import random\n",
    "import numpy as np\n",
    "\n",
    "\n",
    "ONE_MILLION = 1000000\n",
    "np.random.seed(2021) \n",
    "\n",
    "# tạo 2 danh sách gồm 1 triệu số thực ngẫu nhiên\n",
    "np_rand_1 = np.random.rand(ONE_MILLION) ## tạo mảng 1 chiều với n phần tử, các phần tử là số thực ngẫu nhiên trong khoảng [0,1]\n",
    "np_rand_2 = np.random.rand(ONE_MILLION)\n",
    "\n",
    "# chọn ngẫu nhiên phần tử từ danh sách\n",
    "choice_1 = random.choice(np_rand_1)\n",
    "choice_2 = random.choice(np_rand_2)\n",
    "rand_ind = np.random.randint(ONE_MILLION) # tạo một số nguyên ngẫu nhiên trong khoảng [0, 1000000]\n",
    "\n",
    "rand_list = np_rand_1.tolist() # Chuyển mảng Numpy thành danh sách Python. rand_list lưu danh sách này.\n",
    "rand_set = set(np_rand_1) # Chuyển mảng Numpy thành tập hợp (set). rand_set chứa các giá trị không trùng lặp từ np_rand_1.\n",
    "rand_dict = dict(zip(np_rand_1, np_rand_2)) # Tạo một từ điển, với np_rand_1 làm các khóa và np_rand_2 làm giá trị.\n",
    "\n",
    "del np_rand_1\n",
    "del np_rand_2"
   ]
  },
  {
   "cell_type": "code",
   "execution_count": 19,
   "metadata": {},
   "outputs": [
    {
     "name": "stdout",
     "output_type": "stream",
     "text": [
      "List: 1.1920928955078125e-05 s | Complexity O(1)\n",
      "Dict: 0.00011897087097167969 s | Complexity O(1)\n"
     ]
    }
   ],
   "source": [
    "## Truy vấn phần tử dựa vào index/key\n",
    "print(\"List: {} s | Complexity O(1)\".format(cal_time(lambda: rand_list[rand_ind])[0]))\n",
    "print(\"Dict: {} s | Complexity O(1)\".format(cal_time(lambda: rand_dict[choice_1])[0]))"
   ]
  },
  {
   "cell_type": "markdown",
   "metadata": {},
   "source": [
    "list và dict đều có độ phức tạp là O(1) khi truy vấn dựa vào index/key. Điểm khác biệt là index của list phải là các số tuần từ 0, 1, 2, ... còn key của dict không cần theo bất kỳ quy luật nào"
   ]
  }
 ],
 "metadata": {
  "kernelspec": {
   "display_name": "base",
   "language": "python",
   "name": "python3"
  },
  "language_info": {
   "codemirror_mode": {
    "name": "ipython",
    "version": 3
   },
   "file_extension": ".py",
   "mimetype": "text/x-python",
   "name": "python",
   "nbconvert_exporter": "python",
   "pygments_lexer": "ipython3",
   "version": "3.12.7"
  }
 },
 "nbformat": 4,
 "nbformat_minor": 2
}
