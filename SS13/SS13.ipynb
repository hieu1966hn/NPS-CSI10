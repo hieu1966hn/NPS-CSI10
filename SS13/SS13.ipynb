{
 "cells": [
  {
   "cell_type": "markdown",
   "id": "252124d6",
   "metadata": {},
   "source": [
    "# Buổi 13: Ôn tập & Chuẩn bị thi cuối khóa\n",
    "- Các CTDL đã học trong Python: Basic/ Advanced\n",
    "- Thuật toán tìm kiếm\n",
    "- Thuật toán sắp xếp\n",
    "- Thuật toán tìm đường\n",
    "- CTDL chuyên sau: ...\n",
    "- Thuật toán ..\n",
    "\n",
    "\n",
    "=> Luyện tập các bài tập thực hành: "
   ]
  },
  {
   "cell_type": "markdown",
   "id": "6b0bf46b",
   "metadata": {},
   "source": [
    "- Các CTDL đã học trong Python: Basic: String, list/Tuple, Dict, Set(), \n",
    "\n",
    "- Advanced: stack, queue, Tree, graph\n"
   ]
  },
  {
   "cell_type": "code",
   "execution_count": null,
   "id": "45e75a51",
   "metadata": {},
   "outputs": [
    {
     "name": "stdout",
     "output_type": "stream",
     "text": [
      "1\n",
      "{1, 2, 3, 4, 5}\n",
      "{8, 5, 6, 7}\n",
      "{9, 10}\n"
     ]
    }
   ],
   "source": [
    "## Ôn tập về tuple\n",
    "\n",
    "# Khai báo:\n",
    "tuple1 = (1, 2, 3) # Sau khi tạo => không thể thay đổi nội dung của nó\n",
    "\n",
    "# in ra \n",
    "print(tuple1[0])\n",
    "\n",
    "\n",
    "## Ôn tập về set(): Tập hợp các phần tử không trùng lặp và không có thứ tự\n",
    "# khai báo set\n",
    "set1 = {1, 2, 3, 4}\n",
    "set2 = set([5, 6, 7, 8]) # Chuyển từ danh sách => set()\n",
    "set3 = set() # set rỗng\n",
    "\n",
    "# Thêm phần tử: add()\n",
    "set1.add(5)\n",
    "\n",
    "# Thêm nhiều phần tử: update(i, ..) \n",
    "set3.update([9, 10])\n",
    "\n",
    "# xóa phần tử: \n",
    "# remove(value): xóa phần tử (Báo lỗi nếu không có)\n",
    "# pop(): Xóa phần tử ngẫu nhiên\n",
    "# clear(): xóa toàn bộ set\n",
    "\n",
    "\n",
    "print(set1)\n",
    "print(set2)\n",
    "print(set3)\n",
    "\n"
   ]
  },
  {
   "cell_type": "code",
   "execution_count": 5,
   "id": "1317c192",
   "metadata": {},
   "outputs": [
    {
     "name": "stdout",
     "output_type": "stream",
     "text": [
      "3\n",
      "deque([1, 2])\n",
      "queue: deque([2, 3])\n"
     ]
    }
   ],
   "source": [
    "from collections import deque\n",
    "#### Advanced: stack, queue, Tree, graph\n",
    "\n",
    "## Stack: last in first out (vào sau ra trước) - Tương tự list\n",
    "stack = deque() \n",
    "\n",
    "# Thêm phần tử - vào \n",
    "stack.append(1)\n",
    "stack.append(2)\n",
    "stack.append(3)\n",
    "\n",
    "# xóa phần tử \n",
    "phan_tu_xoa = stack.pop()\n",
    "print(phan_tu_xoa)\n",
    "\n",
    "# Cập nhật phần tử\n",
    "# stack[1] = 5\n",
    "\n",
    "print(stack) # 1, 2\n",
    "\n",
    "\n",
    "## Queue: First in first out - Tương tự list\n",
    "queue = deque()\n",
    "\n",
    "# Thêm phần tử\n",
    "queue.append(1)\n",
    "queue.append(2)\n",
    "queue.append(3) # 1, 2, 3\n",
    "\n",
    "# xóa phần tử: popleft()\n",
    "queue.popleft()\n",
    "\n",
    "print(\"queue: {}\".format(queue))"
   ]
  },
  {
   "cell_type": "markdown",
   "id": "c683eec6",
   "metadata": {},
   "source": [
    "Tree & Graph\n",
    "- Tree: CTDL phân cấp gồm các nút (node) được kết nối với nhau theo quan hệ: cha - con\n",
    "+ Nút gốc: root\n",
    "+ Nút lá: leaf node\n",
    "+ Chiều cao của cây (height): Số cạnh dài nhất từ gốc đến lá\n",
    "+ Cây nhị phân (binary tree): Mỗi nút tối đa có 2 con"
   ]
  },
  {
   "attachments": {
    "image.png": {
     "image/png": "[encoded data removed]"
    }
   },
   "cell_type": "markdown",
   "id": "13e5a7d0",
   "metadata": {},
   "source": [
    "![image.png](attachment:image.png)"
   ]
  },
  {
   "cell_type": "code",
   "execution_count": null,
   "id": "d6e6f67f",
   "metadata": {},
   "outputs": [
    {
     "ename": "AttributeError",
     "evalue": "'BinaryTree' object has no attribute 'data'",
     "output_type": "error",
     "traceback": [
      "\u001b[0;31m---------------------------------------------------------------------------\u001b[0m",
      "\u001b[0;31mAttributeError\u001b[0m                            Traceback (most recent call last)",
      "Cell \u001b[0;32mIn[8], line 29\u001b[0m\n\u001b[1;32m     26\u001b[0m tree\u001b[38;5;241m.\u001b[39mroot\u001b[38;5;241m.\u001b[39mright\u001b[38;5;241m.\u001b[39mleft \u001b[38;5;241m=\u001b[39m Node(\u001b[38;5;124m\"\u001b[39m\u001b[38;5;124mE\u001b[39m\u001b[38;5;124m\"\u001b[39m)\n\u001b[1;32m     27\u001b[0m tree\u001b[38;5;241m.\u001b[39mroot\u001b[38;5;241m.\u001b[39mright\u001b[38;5;241m.\u001b[39mright\u001b[38;5;241m=\u001b[39m Node(\u001b[38;5;124m\"\u001b[39m\u001b[38;5;124mF\u001b[39m\u001b[38;5;124m\"\u001b[39m)\n\u001b[0;32m---> 29\u001b[0m traverse_tree(tree, \u001b[38;5;241m0\u001b[39m)\n",
      "Cell \u001b[0;32mIn[8], line 16\u001b[0m, in \u001b[0;36mtraverse_tree\u001b[0;34m(tree_node, level)\u001b[0m\n\u001b[1;32m     14\u001b[0m \u001b[38;5;28;01mdef\u001b[39;00m \u001b[38;5;21mtraverse_tree\u001b[39m(tree_node, level \u001b[38;5;241m=\u001b[39m \u001b[38;5;241m0\u001b[39m):\n\u001b[1;32m     15\u001b[0m     \u001b[38;5;28mprint\u001b[39m(\u001b[38;5;124m\"\u001b[39m\u001b[38;5;124m--\u001b[39m\u001b[38;5;124m\"\u001b[39m\u001b[38;5;241m*\u001b[39mlevel, end\u001b[38;5;241m=\u001b[39m\u001b[38;5;124m\"\u001b[39m\u001b[38;5;124m\"\u001b[39m)\n\u001b[0;32m---> 16\u001b[0m     \u001b[38;5;28mprint\u001b[39m(\u001b[38;5;124m\"\u001b[39m\u001b[38;5;132;01m{}\u001b[39;00m\u001b[38;5;124m\"\u001b[39m\u001b[38;5;241m.\u001b[39mformat(tree_node\u001b[38;5;241m.\u001b[39mdata))\n\u001b[1;32m     18\u001b[0m     \u001b[38;5;28;01mfor\u001b[39;00m node \u001b[38;5;129;01min\u001b[39;00m tree_node\u001b[38;5;241m.\u001b[39mchildren: \n\u001b[1;32m     19\u001b[0m         traverse_tree(node, level\u001b[38;5;241m+\u001b[39m\u001b[38;5;241m1\u001b[39m)\n",
      "\u001b[0;31mAttributeError\u001b[0m: 'BinaryTree' object has no attribute 'data'"
     ]
    }
   ],
   "source": [
    "#### Khởi tạo ra cây\n",
    "class Node:\n",
    "    def __init__(self, value):\n",
    "        self.value = value\n",
    "        self.left = None\n",
    "        self.right = None\n",
    "        \n",
    "        \n",
    "class BinaryTree:\n",
    "    def __init__(self, root):\n",
    "        self.root = Node(root)\n",
    "        \n",
    "## Để in ra các giá trị trong tree, ta đệ quy để duyệt qua các phần tử:  (modify lại hàm dưới)\n",
    "def traverse_tree(tree_node, level = 0):\n",
    "    print(\"--\"*level, end=\"\")\n",
    "    print(\"{}\".format(tree_node.data))\n",
    "    \n",
    "    for node in tree_node.children: \n",
    "        traverse_tree(node, level+1)\n",
    "        \n",
    "## Tạo ra 1 cây cơ bản\n",
    "tree = BinaryTree(\"A\")\n",
    "tree.root.left = Node(\"B\")\n",
    "tree.root.right = Node(\"C\")\n",
    "tree.root.left.left = Node(\"D\")\n",
    "tree.root.right.left = Node(\"E\")\n",
    "tree.root.right.right= Node(\"F\")\n",
    "\n",
    "traverse_tree(tree, 0) ### Fixed\n",
    "        "
   ]
  },
  {
   "cell_type": "markdown",
   "id": "4d314950",
   "metadata": {},
   "source": [
    "## KDL Graph: Đồ thị\n",
    "- Là tập hợp đỉnh (vertex) và cạnh (edge) kết nối các đỉnh.\n",
    "- Đồ thị có hướng: Cạnh có hướng đi cụ thể\n",
    "- Đồ thị vô hướng: Cạnh không có hướng\n",
    "- Đồ thị có trọng số: Cạnh có giá trị trọng số \n",
    "\n",
    "Biểu diễn đồ thị trong Python: Để lưu đồ thị\n",
    "- Danh sách kề\n",
    "- Ma trận kề"
   ]
  },
  {
   "cell_type": "code",
   "execution_count": 10,
   "id": "ac040fd7",
   "metadata": {},
   "outputs": [
    {
     "name": "stdout",
     "output_type": "stream",
     "text": [
      "A =>  ['B', 'C']\n",
      "B =>  ['A', 'D', 'E']\n",
      "[[0 1 1 0 0 0]\n",
      " [1 0 0 1 1 0]\n",
      " [1 0 0 0 0 1]\n",
      " [0 1 0 0 0 0]\n",
      " [0 1 0 0 0 1]\n",
      " [0 0 1 0 1 0]]\n"
     ]
    }
   ],
   "source": [
    "### KDL Graph: Đồ thị\n",
    "## Danh sách kề\n",
    "graph = {\n",
    "    \"A\": ['B', 'C'],\n",
    "    \"B\": ['A', \"D\", \"E\"],\n",
    "}\n",
    "\n",
    "# in danh sách kề:\n",
    "for node, neighbors in graph.items():\n",
    "    print(node, '=> ', neighbors)\n",
    "\n",
    "\n",
    "## Ma trận kề: \n",
    "\n",
    "import numpy as np\n",
    "\n",
    "graph_matrix = np.array([\n",
    "    [0, 1, 1, 0, 0, 0],  # A\n",
    "    [1, 0, 0, 1, 1, 0],  # B\n",
    "    [1, 0, 0, 0, 0, 1],  # C\n",
    "    [0, 1, 0, 0, 0, 0],  # D\n",
    "    [0, 1, 0, 0, 0, 1],  # E\n",
    "    [0, 0, 1, 0, 1, 0]   # F\n",
    "])\n",
    "\n",
    "print(graph_matrix)"
   ]
  },
  {
   "cell_type": "markdown",
   "id": "53661955",
   "metadata": {},
   "source": [
    "#### Thuật toán tìm kiếm\n",
    "- Linear Search: Tìm kiếm tuần tự => Duyệt từng phần tử của danh sách và so sánh với giá trị cần tìm.\n",
    "- Binary Search: Tìm kiếm nhị phân => Chỉ áp dụng cho danh sách đã sắp xếp => Chia đôi danh sách liên tục đến khi tìm thấy giá trị. (nhanh hơn nhiều so với tìm kiếm tuần tự).\n",
    "\n",
    "#### Thuật toán sắp xếp\n",
    "- Selector: Tìm phần tử nhỏ nhất và hoán đổi đổi với phần tử đầu tiên, lặp lại cho đến hết. (dùng khi dữ liệu nhỏ)\n",
    "- Bubble: So sánh từng cặp phần tử, đổi chỗ nếu cần và đưa phần tử lớn nhất lên cuối\n",
    "- Insertion: Lấy từng phần tử và chèn vào đúng vị trí trong danh sách đã sắp xếp.\n",
    "- Quick: Chọn một phần tử làm mốc (pivot), chia thành 2 phần và đệ quy sắp xếp (xấu khi chọn - mốc không tốt)\n",
    "- Merge: Chia mảng thành từng phần nhỏ, sắp xếp rồi ghép lại.\n",
    "- Counting: Dùng khi giá trị nằm trong khoảng nhỏ (không âm).\n",
    "\n",
    "#### Thuật toán tìm đường\n",
    "- DFS - Tìm kiếm theo chiều sâu: \n",
    "+ Nguyên tắc: Đi càng sâu càng tốt trước khi quay lui\n",
    "+ Ứng dụng: Tìm đường trong mê cung, Kiểm tra tính liên thông của đồ thị, ...\n",
    "+ Ưu điểm: Dễ cài đặt, tốn ít bộ nhớ khi dùng đệ quy\n",
    "\n",
    "\n",
    "- BFS - Tìm kiếm theo chiều rộng: \n",
    "+ Nguyên tắc: Duyệt theo từng lớp (Từ gần đến xa - tương tự cây)\n",
    "+ Ứng dụng: Tìm đường ngắn nhất trong đồ thị không trọng số, duyệt web, Giải bài toán mê cung...\n",
    "+ Ưu điểm: Tim đường ngắn nhất\n",
    "+ Nhược điểm: Tốn nhiều bộ nhớ hơn DFS vì cần lưu lại danh sách hàng đợi."
   ]
  },
  {
   "cell_type": "markdown",
   "id": "226c548e",
   "metadata": {},
   "source": [
    "## Luyện tập"
   ]
  }
 ],
 "metadata": {
  "kernelspec": {
   "display_name": "base",
   "language": "python",
   "name": "python3"
  },
  "language_info": {
   "codemirror_mode": {
    "name": "ipython",
    "version": 3
   },
   "file_extension": ".py",
   "mimetype": "text/x-python",
   "name": "python",
   "nbconvert_exporter": "python",
   "pygments_lexer": "ipython3",
   "version": "3.12.7"
  }
 },
 "nbformat": 4,
 "nbformat_minor": 5
}
