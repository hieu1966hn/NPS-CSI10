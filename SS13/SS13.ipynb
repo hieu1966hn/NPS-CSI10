{
 "cells": [
  {
   "cell_type": "markdown",
   "id": "252124d6",
   "metadata": {},
   "source": [
    "# Buổi 13: Ôn tập & Chuẩn bị thi cuối khóa\n",
    "- Các CTDL đã học trong Python: Basic/ Advanced\n",
    "- Thuật toán tìm kiếm\n",
    "- Thuật toán sắp xếp\n",
    "- Thuật toán tìm đường\n",
    "- CTDL chuyên sau: ...\n",
    "- Thuật toán ..\n",
    "\n",
    "\n",
    "=> Luyện tập các bài tập thực hành: "
   ]
  },
  {
   "cell_type": "markdown",
   "id": "6b0bf46b",
   "metadata": {},
   "source": [
    "- Các CTDL đã học trong Python: Basic: String, list/Tuple, Dict, Set(), \n",
    "\n",
    "- Advanced: stack, queue, Tree, graph\n"
   ]
  },
  {
   "cell_type": "code",
   "execution_count": null,
   "id": "45e75a51",
   "metadata": {},
   "outputs": [
    {
     "name": "stdout",
     "output_type": "stream",
     "text": [
      "1\n",
      "{1, 2, 3, 4, 5}\n",
      "{8, 5, 6, 7}\n",
      "{9, 10}\n"
     ]
    }
   ],
   "source": [
    "## Ôn tập về tuple\n",
    "\n",
    "# Khai báo:\n",
    "tuple1 = (1, 2, 3) # Sau khi tạo => không thể thay đổi nội dung của nó\n",
    "\n",
    "# in ra \n",
    "print(tuple1[0])\n",
    "\n",
    "\n",
    "## Ôn tập về set(): Tập hợp các phần tử không trùng lặp và không có thứ tự\n",
    "# khai báo set\n",
    "set1 = {1, 2, 3, 4}\n",
    "set2 = set([5, 6, 7, 8]) # Chuyển từ danh sách => set()\n",
    "set3 = set() # set rỗng\n",
    "\n",
    "# Thêm phần tử: add()\n",
    "set1.add(5)\n",
    "\n",
    "# Thêm nhiều phần tử: update(i, ..) \n",
    "set3.update([9, 10])\n",
    "\n",
    "# xóa phần tử: \n",
    "# remove(value): xóa phần tử (Báo lỗi nếu không có)\n",
    "# pop(): Xóa phần tử ngẫu nhiên\n",
    "# clear(): xóa toàn bộ set\n",
    "\n",
    "\n",
    "print(set1)\n",
    "print(set2)\n",
    "print(set3)\n",
    "\n"
   ]
  },
  {
   "cell_type": "code",
   "execution_count": 5,
   "id": "1317c192",
   "metadata": {},
   "outputs": [
    {
     "name": "stdout",
     "output_type": "stream",
     "text": [
      "3\n",
      "deque([1, 2])\n",
      "queue: deque([2, 3])\n"
     ]
    }
   ],
   "source": [
    "from collections import deque\n",
    "#### Advanced: stack, queue, Tree, graph\n",
    "\n",
    "## Stack: last in first out (vào sau ra trước) - Tương tự list\n",
    "stack = deque() \n",
    "\n",
    "# Thêm phần tử - vào \n",
    "stack.append(1)\n",
    "stack.append(2)\n",
    "stack.append(3)\n",
    "\n",
    "# xóa phần tử \n",
    "phan_tu_xoa = stack.pop()\n",
    "print(phan_tu_xoa)\n",
    "\n",
    "# Cập nhật phần tử\n",
    "# stack[1] = 5\n",
    "\n",
    "print(stack) # 1, 2\n",
    "\n",
    "\n",
    "## Queue: First in first out - Tương tự list\n",
    "queue = deque()\n",
    "\n",
    "# Thêm phần tử\n",
    "queue.append(1)\n",
    "queue.append(2)\n",
    "queue.append(3) # 1, 2, 3\n",
    "\n",
    "# xóa phần tử: popleft()\n",
    "queue.popleft()\n",
    "\n",
    "print(\"queue: {}\".format(queue))"
   ]
  }
 ],
 "metadata": {
  "kernelspec": {
   "display_name": "base",
   "language": "python",
   "name": "python3"
  },
  "language_info": {
   "codemirror_mode": {
    "name": "ipython",
    "version": 3
   },
   "file_extension": ".py",
   "mimetype": "text/x-python",
   "name": "python",
   "nbconvert_exporter": "python",
   "pygments_lexer": "ipython3",
   "version": "3.12.7"
  }
 },
 "nbformat": 4,
 "nbformat_minor": 5
}
