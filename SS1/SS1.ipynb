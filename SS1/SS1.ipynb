{
 "cells": [
  {
   "cell_type": "markdown",
   "id": "b55889cf-3204-4666-9bfc-96d707d78b5a",
   "metadata": {},
   "source": [
    "# (Header 1, title)\n",
    "## (Header 2, major headings)\n",
    "### (Header 3, subheadings)\n"
   ]
  },
  {
   "cell_type": "markdown",
   "id": "39fdc7fa-94f6-4ebb-8822-1dbbf679fafa",
   "metadata": {},
   "source": [
    "**This is bold text**\n",
    "<b> This is bold test <b>\n",
    "\n",
    "_This is italic text_\n",
    "*This is italic text*"
   ]
  },
  {
   "cell_type": "markdown",
   "id": "2b6dc660",
   "metadata": {},
   "source": [
    "# Danh sách\n",
    "<ul>\n",
    "<li>Fish</li>\n",
    "<li>Eggs</li>\n",
    "</ul>\n",
    "\n"
   ]
  },
  {
   "cell_type": "code",
   "execution_count": 8,
   "id": "66b8b2c1-64f6-4234-9191-7d8dcd2769d7",
   "metadata": {},
   "outputs": [
    {
     "data": {
      "text/plain": [
       "'Hello, Hiếu!'"
      ]
     },
     "execution_count": 8,
     "metadata": {},
     "output_type": "execute_result"
    }
   ],
   "source": [
    "def say_hello(recipient):\n",
    "    return 'Hello, {}!'.format(recipient)\n",
    "\n",
    "say_hello(\"Hiếu\")"
   ]
  }
 ],
 "metadata": {
  "kernelspec": {
   "display_name": "Python 3 (ipykernel)",
   "language": "python",
   "name": "python3"
  },
  "language_info": {
   "codemirror_mode": {
    "name": "ipython",
    "version": 3
   },
   "file_extension": ".py",
   "mimetype": "text/x-python",
   "name": "python",
   "nbconvert_exporter": "python",
   "pygments_lexer": "ipython3",
   "version": "3.12.7"
  }
 },
 "nbformat": 4,
 "nbformat_minor": 5
}
