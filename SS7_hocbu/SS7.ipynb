{
 "cells": [
  {
   "cell_type": "markdown",
   "metadata": {},
   "source": [
    "# Buổi 7: Thuật toán sắp xếp (phần 3)\n",
    "- Ôn tập: insertion, bubble, selection, merge, quick\n",
    "- Tìm hiểu về thuật toán: Counting Sort"
   ]
  },
  {
   "cell_type": "markdown",
   "metadata": {},
   "source": [
    "Bài toán: Counting Sort giải quyết bài toán sắp xếp dãy có ít giá trị riêng biệt.\n",
    "\n",
    "Cách tiếp cận: \n",
    "1. Duyệt qua dãy để đếm số lần xuất hiện của từng giá trị\n",
    "2. Sử dụng các giá trị đếm được để đưa các phần tử vào dãy mới theo thứ tự đã sắp xếp\n",
    "\n",
    "\n",
    "Ví dụ: Ta cần sắp xếp dãy [1, 4, 1, 2, 7, 5, 2] chứa các giá trị từ 0 đến 7.\n",
    "Bước 1: Tạo mảng \"count\" chứa số lần xuất hiện của mỗi phần tử\n",
    "        i:  0   1   2   3   4   5   6   7\n",
    " count[i]:  0   2   2   0   1   1   0   1\n",
    "\n",
    "Bước 2: Duyệt count theo thứ tự từ đầu đến cuối để đưa các giá trị vào dãy mới\n",
    "sorted_arr = []                                    \n",
    "i = 0; count[0] = 0 => sorted_arr = []\n",
    "i = 1; count[1] = 2 => sorted_arr = [1, 1]\n",
    "i = 2; count[2] = 2 => sorted_arr = [1, 1, 2, 2]\n",
    "i = 3; count[3] = 0 => sorted_arr = [1, 1, 2, 2]\n",
    "i = 4; count[4] = 1 => sorted_arr = [1, 1, 2, 2, 4]\n",
    "i = 5; count[5] = 1 => sorted_arr = [1, 1, 2, 2, 4, 5]\n",
    "i = 6; count[6] = 0 => sorted_arr = [1, 1, 2, 2, 4, 5]\n",
    "i = 7; count[78] = 1 => sorted_arr = [1, 1, 2, 2, 4, 5, 7]"
   ]
  },
  {
   "cell_type": "code",
   "execution_count": null,
   "metadata": {},
   "outputs": [],
   "source": [
    "def counting_sort(arr):\n",
    "    \n",
    "    ## kiểm tra dãy\n",
    "    if len(arr) <= 1: \n",
    "        return\n",
    "\n",
    "    ## tìm phần tử giá trị lớn nhất của dãy\n",
    "    max_val = max(arr)\n",
    "    \n",
    "    ## Tạo mảng count gồm số phần tử từ 0 - max_value\n",
    "    count = [0] * (max_val + 1) \n",
    "    for el in arr: \n",
    "        count[el] += 1 # 0 2 2 0 1 1 0 1\n",
    "    \n",
    "    ## chuyển đổi về để sx list gốc\n",
    "    index = 0\n",
    "    for i in range(max_val + 1): # max_value = 7 # i = 0; count[0] = 0! i = 1; count[1] = 2! i = 2; count[2] = 2! ...\n",
    "        for j in range(count[i]):\n",
    "            arr[index] = i ## [1, 1, 2, 2, ]\n",
    "            index += 1"
   ]
  },
  {
   "cell_type": "code",
   "execution_count": 5,
   "metadata": {},
   "outputs": [],
   "source": [
    "number_list = [5, 9, 1, 12, 30, 35, 75, 10, 15, 20, 4, 0, 20, 0, 20, 3, 6, 14]\n",
    "\n",
    "import matplotlib.pyplot as plt\n",
    "\n",
    "def show_list(arr, title=\"\"):\n",
    "    fig, ax = plt.subplots(figsize=(20, 4))\n",
    "    ax.bar(range(len(arr)), arr)\n",
    "    ax.set_title(title)\n",
    "    ax.set_xlabel('index')\n",
    "    ax.set_ylabel('value')\n",
    "    plt.show()"
   ]
  },
  {
   "cell_type": "code",
   "execution_count": 6,
   "metadata": {},
   "outputs": [
    {
     "name": "stdout",
     "output_type": "stream",
     "text": [
      "Before sorting: [5, 9, 1, 12, 30, 35, 75, 10, 15, 20, 4, 0, 20, 0, 20, 3, 6, 14]\n",
      "After sorting: [0, 0, 1, 3, 4, 5, 6, 9, 10, 12, 14, 15, 20, 20, 20, 30, 35, 75]\n"
     ]
    },
    {
     "data": {
      "image/png": "[encoded data removed]",
      "text/plain": [
       "<Figure size 2000x400 with 1 Axes>"
      ]
     },
     "metadata": {},
     "output_type": "display_data"
    }
   ],
   "source": [
    "## Cách 1: number_list_2 = number_list.copy()\n",
    "number_list_2 = number_list[:]\n",
    "\n",
    "counting_sort(number_list_2) ## gọi hàm sx counting sort\n",
    "\n",
    "print(\"Before sorting: {}\".format(number_list))\n",
    "print(\"After sorting: {}\".format(number_list_2))\n",
    "show_list(number_list_2, title=\"Number_list_2\")"
   ]
  },
  {
   "cell_type": "markdown",
   "metadata": {},
   "source": [
    "# 3. Thực hành\n"
   ]
  },
  {
   "cell_type": "markdown",
   "metadata": {},
   "source": [
    "## 3.1. Counting Sort Trên Số Âm\n",
    "\n",
    "**Yêu cầu**: Cho một dãy gồm *0 < n < 10<sup>6</sup>* số nguyên, mỗi số có giá trị trong khoảng [-99, 99]. Hãy chỉnh sửa thuật toán Counting Sort để sắp xếp dãy trên theo thứ tự tăng dần.  \n",
    "\n",
    "*Gợi ý*: Ta có thể xem khoảng giá trị [-99, 99] tương tự như khoảng [0, 198] bằng cách cộng 99 vào mỗi phần tử."
   ]
  },
  {
   "cell_type": "code",
   "execution_count": 7,
   "metadata": {},
   "outputs": [],
   "source": [
    "number_list = [5, 9, -1, 12, -30, 35, -75, 10, 15, -20, 4, 0, -20, 0, -20, -3, 6, -14]"
   ]
  },
  {
   "cell_type": "markdown",
   "metadata": {},
   "source": [
    "## 3.2. Danh Sách Điểm\n",
    "\n",
    "Bài toán sắp xếp thường không chỉ giải quyết vấn đề sắp xếp phần tử đơn giản, mà còn sắp xếp các phần tử là object dựa theo các thuộc tính của chúng.  \n",
    "\n",
    "**Yêu cầu**: Cho danh sách điểm của học sinh với định dạng bên dưới. Hãy sắp xếp danh sách theo thứ tự điểm Toán tăng dần.\n",
    "Biết danh sách có thể có điếm của *0 < n < 10<sup>6</sup>* học sinh, mỗi điểm được làm tròn đến số nguyên từ 0 đến 10."
   ]
  },
  {
   "cell_type": "code",
   "execution_count": 8,
   "metadata": {},
   "outputs": [],
   "source": [
    "student_grade_list = [\n",
    "    {'id': 984, 'math': 9, 'literature': 5},\n",
    "    {'id': 12, 'math': 10, 'literature': 4},\n",
    "    {'id': 324, 'math': 10, 'literature': 5},\n",
    "    {'id': 890, 'math': 5, 'literature': 7},\n",
    "    {'id': 223, 'math': 8, 'literature': 5},\n",
    "    {'id': 543, 'math': 8, 'literature': 8},\n",
    "]"
   ]
  }
 ],
 "metadata": {
  "kernelspec": {
   "display_name": "base",
   "language": "python",
   "name": "python3"
  },
  "language_info": {
   "codemirror_mode": {
    "name": "ipython",
    "version": 3
   },
   "file_extension": ".py",
   "mimetype": "text/x-python",
   "name": "python",
   "nbconvert_exporter": "python",
   "pygments_lexer": "ipython3",
   "version": "3.12.7"
  }
 },
 "nbformat": 4,
 "nbformat_minor": 2
}
