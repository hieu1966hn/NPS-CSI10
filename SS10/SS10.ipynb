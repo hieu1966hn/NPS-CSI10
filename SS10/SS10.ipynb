{
 "cells": [
  {
   "cell_type": "markdown",
   "metadata": {},
   "source": [
    "# Buổi 10: Tree & Graph"
   ]
  },
  {
   "cell_type": "markdown",
   "metadata": {},
   "source": [
    "## 1. Tree (Cây)\n",
    "**Tree** là một cấu trúc dữ liệu có tính phân cấp. Một số ví dụ của Tree: \n",
    "- Cây phát sinh thế giới động vật\n",
    "- Cây tổ chức các phần tử trong trang web\n",
    "\n",
    "\n",
    "Mô tả: Từ các ví dụ trên, ta có thể rút ra một số **tính chất** của cây:\n",
    "- Cây bắt đầu từ một phần tử gốc. Phần tử này có thể không có hoặc có nhiều phần tử con.\n",
    "- Mỗi phần tử nằm sau phần tử gốc cũng có thể không có hoặc có nhiều phần tử con, nhưng mỗi phần tử đều chỉ có đúng một phần tử cha.\n",
    "- Các phần tử không có phần tử con được gọi là phần tử lá.\n",
    "- Mỗi phần tử còn được gọi là *\"node\"*"
   ]
  },
  {
   "cell_type": "markdown",
   "metadata": {},
   "source": [
    "### Ứng dụng\n",
    "- Lưu trữ cây thư mục trên các hệ thống: Windows, Linus, MacoS\n",
    "- Lưu trữ dữ liệu có tính chất phân cấp: cấu trúc cấp bậc trong một tổ chức, dữ liệu dạng HTML, XML, JSON, ...\n",
    "- Hỗ trợ thực hiện các thuật toán:\n",
    "+ Tính toán giá trị biểu thức\n",
    "+ Tìm kiếm trên cây nhị phân\n",
    "+ Biên dịch code của ngôn ngữ lập trình => mã máy\n",
    "+ Các thuật toán machine learning trên cây"
   ]
  },
  {
   "cell_type": "markdown",
   "metadata": {},
   "source": [
    "### Code\n",
    "Python không hỗ trợ cấu trúc dữ liệu sẵn có dạng tree. Tuy nhiên, ta có thể tự cài đặt tree một cách đơn giản như sau: "
   ]
  },
  {
   "cell_type": "code",
   "execution_count": 2,
   "metadata": {},
   "outputs": [
    {
     "name": "stdout",
     "output_type": "stream",
     "text": [
      "Children of root: [<__main__.TreeNode object at 0x112d46360>, <__main__.TreeNode object at 0x112d45df0>]\n",
      "Children of head: [<__main__.TreeNode object at 0x112d45dc0>, <__main__.TreeNode object at 0x112d463f0>]\n",
      "Children of body: []\n",
      "html\n",
      "--head\n",
      "----meta\n",
      "----title\n",
      "--body\n"
     ]
    }
   ],
   "source": [
    "class TreeNode:\n",
    "    def __init__(self, data):\n",
    "        self.data = data\n",
    "        self.children = []\n",
    "        \n",
    "## Để in ra các giá trị trong tree, ta đệ quy để duyệt qua các phần tử: \n",
    "def traverse_tree(tree_node, level = 0):\n",
    "    print(\"--\"*level, end=\"\")\n",
    "    print(\"{}\".format(tree_node.data))\n",
    "    \n",
    "    for node in tree_node.children: \n",
    "        traverse_tree(node, level+1)\n",
    "        \n",
    "        \n",
    "        \n",
    "## Tạo các node cho cây\n",
    "root = TreeNode('html')\n",
    "head = TreeNode(\"head\")\n",
    "body = TreeNode(\"body\")\n",
    "meta = TreeNode(\"meta\")\n",
    "title = TreeNode(\"title\")\n",
    "\n",
    "## sắp xếp vị trí cha - con\n",
    "root.children =  [head, body]\n",
    "head.children = [meta, title]\n",
    "\n",
    "print(\"Children of root: {}\".format(root.children))\n",
    "print(\"Children of head: {}\".format(head.children))\n",
    "print(\"Children of body: {}\".format(body.children))\n",
    "\n",
    "traverse_tree(root)"
   ]
  },
  {
   "cell_type": "markdown",
   "metadata": {},
   "source": [
    "## Graph (Đồ thị)\n",
    "**Graph** là một cấu trúc dữ liệu gồm các đỉnh (vertex) được nối với nhau bởi các cạnh (edge)\n",
    "\n",
    "\n",
    "Tính chất:\n",
    "- Mỗi cạnh của một graph kết nối đúng hai đỉnh với nhau. Hai đỉnh được nối bằng cạnh được gọi là *liền kề nhau*.\n",
    "- Một đỉnh có thể kết nối với nhiều đỉnh khác hoặc không kết nối với đỉnh nào.\n",
    "\n",
    "Ứng dụng: \n",
    "- Bản đồ đường bộ như Google Maps: mỗi con đường là một cạnh, mỗi giao độ là một đỉnh\n",
    "- Bản đồ đường dây điện: đường ống nước, ... \n",
    "- Kết nối giữa các máy tính trong cùng mạng LAN, giữa các server Internet\n",
    "- Quan hệ bạn bề trên mạng xã hội như Facebook: mỗi quan hệ bạn bè là một cạnh, mỗi tài khoản là một đỉnh."
   ]
  },
  {
   "cell_type": "markdown",
   "metadata": {},
   "source": [
    "### Lưu trữ\n",
    "Có nhiều mô hình khác nhau để lưu trữ một đồ thị. Một trong những cách thông dụng là lưu trữ theo dạng *danh sách kề*: từ mỗi đỉnh, ta lưu trữ tất cả các đỉnh liền kề với nó.\n",
    "\n",
    "VD: ta lưu trữ độ thị minh họa trong Python như sau: (ảnh zalo)\n",
    "\n",
    "Nhận xét, ở một đỉnh bất kỳ như đỉnh 3: ta tìm được 2 đỉnh liền kề với 3 là: 1, 4."
   ]
  },
  {
   "cell_type": "markdown",
   "metadata": {},
   "source": [
    "### Code.\n",
    "\n",
    "Cho một đồ thị được lưu dưới dạng danh sách kề, ta thực hiện kiểm tra hai đỉnh A và B có kết nối với nhau hay không bằng cách đi từ A, lần theo các cạnh để đi đến các đỉnh liền kề cho đến khi tìm được B. Nếu đã duyệt qua tất cả các đỉnh có thể từ A mà vẫn không tìm được B, ta kết luận A và B không kết nối với nhau."
   ]
  },
  {
   "cell_type": "code",
   "execution_count": null,
   "metadata": {},
   "outputs": [],
   "source": [
    "graph = {\n",
    "    0: [4],\n",
    "    1: [2],\n",
    "    2: [1],\n",
    "    3: [4],\n",
    "    4: [0, 3]\n",
    "}\n",
    "\n"
   ]
  },
  {
   "cell_type": "code",
   "execution_count": 3,
   "metadata": {},
   "outputs": [],
   "source": [
    "def is_connected_recursive(vertex1, vertex2, graph, visited):\n",
    "    if vertex1 == vertex2:\n",
    "        return True\n",
    "    \n",
    "    # kiểm tra đỉnh đang xét đã đi qua chưa\n",
    "    visited.add(vertex1)\n",
    "    \n",
    "    ## kiểm tra mỗi đỉnh \n",
    "    for vertex in graph[vertex1]:\n",
    "        if vertex not in visited and is_connected_recursive(vertex, vertex2, graph, visited):\n",
    "            return True\n",
    "    \n",
    "    return False\n",
    "\n",
    "\n",
    "def is_connected(vertex1, vertex2, graph):\n",
    "    return is_connected_recursive(vertex1, vertex2, graph, set())\n",
    "        "
   ]
  }
 ],
 "metadata": {
  "kernelspec": {
   "display_name": "base",
   "language": "python",
   "name": "python3"
  },
  "language_info": {
   "codemirror_mode": {
    "name": "ipython",
    "version": 3
   },
   "file_extension": ".py",
   "mimetype": "text/x-python",
   "name": "python",
   "nbconvert_exporter": "python",
   "pygments_lexer": "ipython3",
   "version": "3.12.7"
  }
 },
 "nbformat": 4,
 "nbformat_minor": 2
}
