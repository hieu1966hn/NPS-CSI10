{
 "cells": [
  {
   "cell_type": "markdown",
   "metadata": {},
   "source": [
    "# Buổi 9: Stack & Queue\n",
    "- Ứng dụng của Stack & Queue\n",
    "- Phân tích các bài toán có thể sử dụng Stack & Queue"
   ]
  },
  {
   "cell_type": "markdown",
   "metadata": {},
   "source": [
    "## 1. Stack (Ngăn Xếp)\n",
    "- Khái niệm: Stack là một cấu trúc dữ liệu tuần tự. Dữ liệu được lưu trong Stack với tính chất **vào sau ra trước**.\n",
    "- Stack tương tự như một *list* với hai method quan trọng: \n",
    "+ Thêm một phần tử vào cuối dãy\n",
    "+ Lấy một phần tử từ cuối dãy\n",
    "\n",
    "VD: Stack như một chồng sách: ta có thể đặt chồng lên một quyển sách hoặc lấy ra một quyển từ trên cùng."
   ]
  },
  {
   "cell_type": "markdown",
   "metadata": {},
   "source": [
    "### Ứng dụng\n",
    "Stack được ứng dụng trên nhiều bài toán thực tế: \n",
    "- Lưu các trang đã xem và di chuyển về trang trước trên trình duyệt\n",
    "- Chức năng *undo* trên phần mềm như: Word, VS Code, Photoshop\n",
    "- Tính toán biểu thức nhiều toán tử\n",
    "- Lưu trữ các lệnh gọi đệ quy"
   ]
  },
  {
   "cell_type": "markdown",
   "metadata": {},
   "source": [
    "### Code\n",
    "Stack có thể được hiện thực bằng một list. Tuy nhiên, Python hỗ trợ class deque có độ hiệu quả cao hơn."
   ]
  },
  {
   "cell_type": "code",
   "execution_count": 6,
   "metadata": {},
   "outputs": [
    {
     "name": "stdout",
     "output_type": "stream",
     "text": [
      "Add Element to stack: deque(['a', 'b', 'c', 'd'])\n",
      "Remove Element to stack: deque(['a', 'b', 'c'])\n",
      "Get value of element from stack: c\n"
     ]
    }
   ],
   "source": [
    "from collections import deque\n",
    "\n",
    "# Khởi tạo 1 Stack\n",
    "stack = deque(['a', 'b', 'c'])\n",
    "# print(\"Khởi tạo stack: {}\".format(stack))\n",
    "# print(\"Khởi tạo list: {}\".format([1,2,3]))\n",
    "\n",
    "## Thêm một phần tử vào stack\n",
    "stack.append(\"d\")\n",
    "print(\"Add Element to stack: {}\".format(stack))\n",
    "\n",
    "## Xóa phần tử khỏi stack\n",
    "stack.pop()\n",
    "print(\"Remove Element to stack: {}\".format(stack))\n",
    "\n",
    "## Lấy ra giá trị cuối của stack\n",
    "print(\"Get value of element from stack: {}\".format(stack[-1]))"
   ]
  },
  {
   "cell_type": "markdown",
   "metadata": {},
   "source": [
    "## 2. Queue (Hàng đợi)\n",
    "**Queue** lưu trữ dữ liệu với tính chất *vào trước ra trước*\n",
    "\n",
    "Hai method quan trọng của Queue là: \n",
    "- Thêm một phần tử vào cuối dãy.\n",
    "- Lấy một phần tử ở đầu dãy.\n",
    "\n",
    "VD: Queue giống như một hàng người chờ thanh toán trong siêu thị: người đến trước được thanh toán trước.\n"
   ]
  },
  {
   "cell_type": "markdown",
   "metadata": {},
   "source": [
    "### Ứng dụng\n",
    "- Tìm đường đi ngắn nhất trên đồ thị\n",
    "- Lưu trữ thứ tự xử lý các request đến một trang web\n",
    "- Xử lý order trong quán trà sữa/ nhà hàng, ...\n",
    "- Xử lý yêu cầu đặt vé xem phim online\n",
    "- Sắp xếp ngườichơi vào phòng trong game online"
   ]
  },
  {
   "cell_type": "markdown",
   "metadata": {},
   "source": [
    "### Code\n",
    "Queue cũng có thể được hiện thực bằng một list. Tuy nhiên, Class *deque* cũng hỗ trợ các phương thức thêm và lấy phần tử trong queue."
   ]
  },
  {
   "cell_type": "code",
   "execution_count": 9,
   "metadata": {},
   "outputs": [
    {
     "name": "stdout",
     "output_type": "stream",
     "text": [
      "Khởi tạo queue: deque(['a', 'b', 'c'])\n",
      "Add element to queue: deque(['a', 'b', 'c', 'd'])\n",
      "Remove element from queue: deque(['b', 'c', 'd'])\n",
      "Get value of element from queue: b\n"
     ]
    }
   ],
   "source": [
    "from collections import deque\n",
    "\n",
    "## khởi tạo queue | tương tự với stack\n",
    "queue = deque(['a', 'b', 'c'])\n",
    "print(\"Khởi tạo queue: {}\".format(queue))\n",
    "\n",
    "\n",
    "## Thêm một pnần tử vào queue | Giống hệt stack\n",
    "queue.append('d')\n",
    "print(\"Add element to queue: {}\".format(queue))\n",
    "\n",
    "## Xóa một phần tử khỏi queue\n",
    "queue.popleft()\n",
    "print(\"Remove element from queue: {}\".format(queue))\n",
    "\n",
    "\n",
    "## Lấy dữ liệu phần tử đầu tiên của queue\n",
    "print(\"Get value of element from queue: {}\".format(queue[0]))"
   ]
  },
  {
   "cell_type": "markdown",
   "metadata": {},
   "source": [
    "## 3. Deque (hàng đợi hai đầu)\n",
    "Class Deque được dùng dể hiện thực Stack & Queue trên cũng là một cấu trúc dữ liệu có tên *Deque*: Double-ended Queue. Cấu trúc dữ liệu này hỗ trợ thêm và xóa phần tử ở cả hai đầu của danh sách."
   ]
  },
  {
   "cell_type": "code",
   "execution_count": 13,
   "metadata": {},
   "outputs": [
    {
     "name": "stdout",
     "output_type": "stream",
     "text": [
      "Initial deque: deque(['a', 'b', 'c'])\n",
      "Add element to the right: deque(['a', 'b', 'c', 'd'])\n",
      "Add element to the left: deque(['z', 'a', 'b', 'c', 'd'])\n",
      "Remove element from the right: deque(['z', 'a', 'b', 'c'])\n",
      "Remove element from the left: deque(['a', 'b', 'c'])\n",
      "Get value of element from the right: c\n",
      "Get value of element from the left: a\n"
     ]
    }
   ],
   "source": [
    "from collections import deque\n",
    "\n",
    "## Khởi tạo một deque\n",
    "deq = deque(['a','b','c'])\n",
    "print(\"Initial deque: {}\".format(deq))\n",
    "\n",
    "## Thêm phần tử vào deque (cuối)\n",
    "deq.append('d')\n",
    "print(\"Add element to the right: {}\".format(deq))\n",
    "deq.appendleft('z')\n",
    "print(\"Add element to the left: {}\".format(deq))\n",
    "\n",
    "## Xóa phần tử từ deque\n",
    "deq.pop()\n",
    "print(\"Remove element from the right: {}\".format(deq))\n",
    "deq.popleft()\n",
    "print(\"Remove element from the left: {}\".format(deq))\n",
    "\n",
    "## Lấy giá trị của phần tử\n",
    "print(\"Get value of element from the right: {}\".format(deq[-1]))\n",
    "print(\"Get value of element from the left: {}\".format(deq[0]))"
   ]
  },
  {
   "cell_type": "markdown",
   "metadata": {},
   "source": [
    "## 4.1 Dãy ngoặc đúng\n",
    "Dãy ngoặc đúng là một dãy ngoặc sao cho mỗi ngoặc mở đều có ngoặc đóng tương ứng và ngược lại. VD\n",
    "\n",
    "- () (()): Đây là một dãy ngoặc đúng\n",
    "- (()(): không phải là mọt dãy ngoặc đúng, do ngoặc mở đầu tiên không có ngoặc đóng tương ứng.\n",
    "\n",
    "Yêu cầu: Cho một chuỗi ký tự chỉ bao gồm các dấu ngoặc mở và đóng, kiểm tra xem dãy ngoặc đã cho có hợp lệ hay không.\n",
    "\n",
    "Gợi ý: sử dụng Stack"
   ]
  },
  {
   "cell_type": "code",
   "execution_count": null,
   "metadata": {},
   "outputs": [],
   "source": [
    "def is_valid(str): # \"()(())\"\n",
    "    \n",
    "    stack = deque()\n",
    "    \n",
    "    for c in str: \n",
    "        # print(c) # ( ) ( ( ) ) từng ký tự\n",
    "        if c == \"(\":\n",
    "            stack.append(c)\n",
    "        else: \n",
    "            if len(stack) > 0: ## Kiểm tra trong stack có ngoặc mở hay chưa. Nếu có: \n",
    "                stack.pop() ## xóa phần tử cuối\n",
    "            else: ## nếu stack không có ngoặc mở.\n",
    "                return False\n",
    "    \n",
    "    return len(stack) == 0 # True    "
   ]
  },
  {
   "cell_type": "code",
   "execution_count": 17,
   "metadata": {},
   "outputs": [
    {
     "data": {
      "text/plain": [
       "True"
      ]
     },
     "execution_count": 17,
     "metadata": {},
     "output_type": "execute_result"
    }
   ],
   "source": [
    "is_valid(\"((()))(())\")"
   ]
  },
  {
   "cell_type": "markdown",
   "metadata": {},
   "source": [
    "## 4.2 Đảo ngược chuỗi bằng Stack\n",
    "Yêu càu: Viết một hàm reverse_string(str) => str đảo ngược chuỗi bằng cách sử dụng Stack\n",
    "\n",
    "VD: \n",
    "input: \"hello\" => \"olleh\"\n",
    "Gợi ý: Đẩy từng ký tự vào stack, sau đó pop ra để tạo chuỗi đảo ngược"
   ]
  },
  {
   "cell_type": "code",
   "execution_count": null,
   "metadata": {},
   "outputs": [
    {
     "data": {
      "text/plain": [
       "['o', 'l', 'l', 'e', 'h']"
      ]
     },
     "execution_count": 19,
     "metadata": {},
     "output_type": "execute_result"
    }
   ],
   "source": [
    "def reverse_string(str): # \"hello\"\n",
    "     stack = deque()\n",
    "     reverse_str = []\n",
    "     for c in str:\n",
    "         stack.append(c) # h, e, l, l, o\n",
    "         \n",
    "         # stack = list(str)ơ\n",
    "         \n",
    "     for i in range(1, len(stack) + 1):\n",
    "        reverse_str.append(stack[-i])\n",
    "     return reverse_str\n",
    "\n",
    "reverse_string(\"hello\")"
   ]
  },
  {
   "cell_type": "markdown",
   "metadata": {},
   "source": [
    "## 4.3 Kiểm tra Paliindrome (chuỗi đối xứng) dùng Queue\n",
    "Viết một hàm is_palindrome(str) => bool kiểm tra xem chuỗi có phải là *palindrome* không. Sử dụng Queue\n",
    "\n",
    "VD: \n",
    "Input: \n",
    "'radar' # true\n",
    "'hello' # false"
   ]
  },
  {
   "cell_type": "markdown",
   "metadata": {},
   "source": []
  }
 ],
 "metadata": {
  "kernelspec": {
   "display_name": "base",
   "language": "python",
   "name": "python3"
  },
  "language_info": {
   "codemirror_mode": {
    "name": "ipython",
    "version": 3
   },
   "file_extension": ".py",
   "mimetype": "text/x-python",
   "name": "python",
   "nbconvert_exporter": "python",
   "pygments_lexer": "ipython3",
   "version": "3.12.7"
  }
 },
 "nbformat": 4,
 "nbformat_minor": 2
}
